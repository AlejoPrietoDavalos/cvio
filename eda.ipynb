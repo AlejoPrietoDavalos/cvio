{
 "cells": [
  {
   "cell_type": "code",
   "execution_count": 1,
   "metadata": {},
   "outputs": [
    {
     "data": {
      "text/html": [
       "<div><style>\n",
       ".dataframe > thead > tr,\n",
       ".dataframe > tbody > tr {\n",
       "  text-align: right;\n",
       "  white-space: pre-wrap;\n",
       "}\n",
       "</style>\n",
       "<small>shape: (11, 3)</small><table border=\"1\" class=\"dataframe\"><thead><tr><th>name</th><th>img</th><th>kp-1</th></tr><tr><td>str</td><td>str</td><td>str</td></tr></thead><tbody><tr><td>&quot;001.jpg&quot;</td><td>&quot;/data/upload/2/ff2f8f9b-001.jp…</td><td>&quot;[{&quot;x&quot;:66.74496644295303,&quot;y&quot;:15…</td></tr><tr><td>&quot;002.jpg&quot;</td><td>&quot;/data/upload/2/aba1de35-002.jp…</td><td>&quot;[{&quot;x&quot;:66.44295302013423,&quot;y&quot;:15…</td></tr><tr><td>&quot;003.jpg&quot;</td><td>&quot;/data/upload/2/217e3997-003.jp…</td><td>&quot;[{&quot;x&quot;:66.54362416107384,&quot;y&quot;:15…</td></tr><tr><td>&quot;004.jpg&quot;</td><td>&quot;/data/upload/2/92b8136a-004.jp…</td><td>&quot;[{&quot;x&quot;:66.44295302013423,&quot;y&quot;:15…</td></tr><tr><td>&quot;005.jpg&quot;</td><td>&quot;/data/upload/2/c3cded86-005.jp…</td><td>&quot;[{&quot;x&quot;:66.64429530201342,&quot;y&quot;:15…</td></tr><tr><td>&hellip;</td><td>&hellip;</td><td>&hellip;</td></tr><tr><td>&quot;007.jpg&quot;</td><td>&quot;/data/upload/2/4f3712b5-007.jp…</td><td>&quot;[{&quot;x&quot;:66.24161073825505,&quot;y&quot;:15…</td></tr><tr><td>&quot;008.jpg&quot;</td><td>&quot;/data/upload/2/f1bad2a4-008.jp…</td><td>&quot;[{&quot;x&quot;:66.54362416107384,&quot;y&quot;:15…</td></tr><tr><td>&quot;009.jpg&quot;</td><td>&quot;/data/upload/2/90451b5a-009.jp…</td><td>&quot;[{&quot;x&quot;:49.0268456375839,&quot;y&quot;:60.…</td></tr><tr><td>&quot;010.jpg&quot;</td><td>&quot;/data/upload/2/2ee90f1b-010.jp…</td><td>&quot;[{&quot;x&quot;:67.85234899328859,&quot;y&quot;:28…</td></tr><tr><td>&quot;011.jpg&quot;</td><td>&quot;/data/upload/2/e04848c6-011.jp…</td><td>&quot;[{&quot;x&quot;:66.54362416107384,&quot;y&quot;:15…</td></tr></tbody></table></div>"
      ],
      "text/plain": [
       "shape: (11, 3)\n",
       "┌─────────┬─────────────────────────────────┬─────────────────────────────────┐\n",
       "│ name    ┆ img                             ┆ kp-1                            │\n",
       "│ ---     ┆ ---                             ┆ ---                             │\n",
       "│ str     ┆ str                             ┆ str                             │\n",
       "╞═════════╪═════════════════════════════════╪═════════════════════════════════╡\n",
       "│ 001.jpg ┆ /data/upload/2/ff2f8f9b-001.jp… ┆ [{\"x\":66.74496644295303,\"y\":15… │\n",
       "│ 002.jpg ┆ /data/upload/2/aba1de35-002.jp… ┆ [{\"x\":66.44295302013423,\"y\":15… │\n",
       "│ 003.jpg ┆ /data/upload/2/217e3997-003.jp… ┆ [{\"x\":66.54362416107384,\"y\":15… │\n",
       "│ 004.jpg ┆ /data/upload/2/92b8136a-004.jp… ┆ [{\"x\":66.44295302013423,\"y\":15… │\n",
       "│ 005.jpg ┆ /data/upload/2/c3cded86-005.jp… ┆ [{\"x\":66.64429530201342,\"y\":15… │\n",
       "│ …       ┆ …                               ┆ …                               │\n",
       "│ 007.jpg ┆ /data/upload/2/4f3712b5-007.jp… ┆ [{\"x\":66.24161073825505,\"y\":15… │\n",
       "│ 008.jpg ┆ /data/upload/2/f1bad2a4-008.jp… ┆ [{\"x\":66.54362416107384,\"y\":15… │\n",
       "│ 009.jpg ┆ /data/upload/2/90451b5a-009.jp… ┆ [{\"x\":49.0268456375839,\"y\":60.… │\n",
       "│ 010.jpg ┆ /data/upload/2/2ee90f1b-010.jp… ┆ [{\"x\":67.85234899328859,\"y\":28… │\n",
       "│ 011.jpg ┆ /data/upload/2/e04848c6-011.jp… ┆ [{\"x\":66.54362416107384,\"y\":15… │\n",
       "└─────────┴─────────────────────────────────┴─────────────────────────────────┘"
      ]
     },
     "execution_count": 1,
     "metadata": {},
     "output_type": "execute_result"
    }
   ],
   "source": [
    "from typing import Any\n",
    "from pathlib import Path\n",
    "import json\n",
    "\n",
    "import polars as pl\n",
    "from pydantic import BaseModel\n",
    "\n",
    "IMG = \"img\"\n",
    "NAME = \"name\"\n",
    "KP_1 = \"kp-1\"\n",
    "\n",
    "path_data = Path(\"data\")\n",
    "path_captures = path_data / \"captures\"\n",
    "path_labels = path_data / \"labels.csv\"\n",
    "\n",
    "# Solo agarro las columnas que necesito.\n",
    "_COLS_TO_KEEP = [IMG, KP_1]\n",
    "df = pl.read_csv(path_labels, columns=_COLS_TO_KEEP)\n",
    "\n",
    "# Le saco el path agregado por label-studio.\n",
    "df.insert_column(0, pl.Series(NAME, [img.split(\"-\")[-1] for img in df[IMG]]))\n",
    "df"
   ]
  },
  {
   "cell_type": "code",
   "execution_count": 2,
   "metadata": {},
   "outputs": [],
   "source": [
    "from typing import Dict, List, Literal\n",
    "\n",
    "from pydantic import Field\n",
    "import numpy as np\n",
    "\n",
    "class Label(BaseModel):\n",
    "    x: float\n",
    "    y: float\n",
    "    keypointlabels: Literal[\"foot\", \"reference\"]\n",
    "    original_width: float\n",
    "    original_height: float\n",
    "\n",
    "\n",
    "class LabelPoints(BaseModel):\n",
    "    foot: List[Label] = Field(default_factory=list)\n",
    "    reference: List[Label] = Field(default_factory=list)\n",
    "\n",
    "    @property\n",
    "    def foot_array(self) -> np.ndarray:\n",
    "        return np.array([[f.x, f.y] for f in self.foot], dtype=np.float32)\n",
    "\n",
    "    @property\n",
    "    def reference_array(self) -> np.ndarray:\n",
    "        return np.array([[r.x, r.y] for r in self.reference], dtype=np.float32)\n",
    "\n"
   ]
  },
  {
   "cell_type": "code",
   "execution_count": 3,
   "metadata": {},
   "outputs": [],
   "source": [
    "name2label: Dict[str, LabelPoints] = {}\n",
    "for row in df.iter_rows(named=True):\n",
    "    name = row[NAME]\n",
    "    for label in json.loads(row[KP_1]):\n",
    "        label[\"keypointlabels\"] = label[\"keypointlabels\"][0]\n",
    "        label = Label(**label)\n",
    "        if name not in name2label:\n",
    "            name2label[name] = LabelPoints()\n",
    "        \n",
    "        if label.keypointlabels == \"foot\":\n",
    "            name2label[name].foot.append(label)\n",
    "        elif label.keypointlabels == \"reference\":\n",
    "            name2label[name].reference.append(label)\n",
    "        else:\n",
    "            raise NotImplementedError(\"Implement.\")"
   ]
  },
  {
   "cell_type": "code",
   "execution_count": 4,
   "metadata": {},
   "outputs": [
    {
     "data": {
      "text/plain": [
       "[Label(x=50.33557046979866, y=67.38255033557047, keypointlabels='foot', original_width=640.0, original_height=480.0),\n",
       " Label(x=61.10738255033558, y=84.02684563758389, keypointlabels='foot', original_width=640.0, original_height=480.0),\n",
       " Label(x=64.63087248322148, y=32.48322147651007, keypointlabels='foot', original_width=640.0, original_height=480.0)]"
      ]
     },
     "metadata": {},
     "output_type": "display_data"
    },
    {
     "data": {
      "text/plain": [
       "[Label(x=66.44295302013423, y=15.167785234899329, keypointlabels='reference', original_width=640.0, original_height=480.0),\n",
       " Label(x=42.08053691275168, y=41.74496644295302, keypointlabels='reference', original_width=640.0, original_height=480.0),\n",
       " Label(x=21.140939597315437, y=45.63758389261745, keypointlabels='reference', original_width=640.0, original_height=480.0),\n",
       " Label(x=49.32885906040269, y=61.34228187919463, keypointlabels='reference', original_width=640.0, original_height=480.0)]"
      ]
     },
     "metadata": {},
     "output_type": "display_data"
    }
   ],
   "source": [
    "IMG_NAME = \"004.jpg\"\n",
    "display(name2label[IMG_NAME].foot)\n",
    "display(name2label[IMG_NAME].reference)"
   ]
  },
  {
   "cell_type": "code",
   "execution_count": 5,
   "metadata": {},
   "outputs": [],
   "source": [
    "import cv2\n",
    "import numpy as np\n",
    "\n",
    "# Coordenadas en la imagen (x, y) de puntos de referencia.\n",
    "#points_ref = name2label[IMG_NAME].reference_array\n",
    "points_ref = np.array([     # FIXME: Hardcodeo por que al labelear no tuve en cuenta el orden de los puntos.\n",
    "    [66, 15],\n",
    "    [21, 45],\n",
    "    [42, 41],\n",
    "    [59, 60]\n",
    "], dtype=np.float32)\n",
    "\n",
    "# TODO: Ver si es esto.\n",
    "#IMG_HEIGHT = name2label[IMG_NAME].reference[0].original_height\n",
    "# Invertimos Y en puntos de imagen\n",
    "#points_ref_flipped = points_ref.copy()\n",
    "#points_ref_flipped[:, 1] = IMG_HEIGHT - points_ref_flipped[:, 1]\n",
    "# TODO: Ver si es esto.\n",
    "\n",
    "# Coordenadas conocidas en el plano real (por ejemplo, en metros o pixeles del mapa).\n",
    "#points_labeled = name2label[\"001.jpg\"].foot_array\n",
    "points_real = np.array([\n",
    "    [275, 375],\n",
    "    [62.5, 273],\n",
    "    [126.5, 273],\n",
    "    [126.5, 213]\n",
    "], dtype=np.float32)\n",
    "\n",
    "room_outline = np.array([\n",
    "    [0, 375+33.5+50],\n",
    "    [0, 375+33.5],\n",
    "    [195, 375+33.5],\n",
    "    [195, 375],\n",
    "    [0, 375],\n",
    "    [0, 0],\n",
    "    [293, 0],\n",
    "    [293, 375],\n",
    "    [293-18, 375],\n",
    "    [293-18, 375+33.5],\n",
    "    [293+18.5, 375+33.5],\n",
    "    [293+18.5, 375+33.5+50]\n",
    "], dtype=np.float32)\n",
    "\n",
    "# Calcula la matriz de homografía.\n",
    "H, _ = cv2.findHomography(points_ref, points_real)\n",
    "\n"
   ]
  },
  {
   "cell_type": "code",
   "execution_count": 6,
   "metadata": {},
   "outputs": [],
   "source": [
    "import matplotlib.pyplot as plt\n",
    "import numpy as np\n",
    "import cv2\n",
    "from pathlib import Path\n",
    "\n",
    "def project_points(image_points: np.ndarray, H: np.ndarray) -> np.ndarray:\n",
    "    \"\"\" Proyecta puntos desde la imagen al plano real usando la homografía. \"\"\"\n",
    "    pts = image_points.reshape(-1, 1, 2).astype(np.float32)\n",
    "    projected = cv2.perspectiveTransform(pts, H)\n",
    "    return projected.reshape(-1, 2)\n",
    "\n",
    "def show_image_with_points(\n",
    "    img_path: Path,\n",
    "    foot_pts: np.ndarray,\n",
    "    ref_pts: np.ndarray,\n",
    "    original_width: float,\n",
    "    original_height: float\n",
    ") -> np.ndarray:\n",
    "    \"\"\" Carga y muestra la imagen con los puntos de interés. \"\"\"\n",
    "    img = cv2.imread(str(img_path))\n",
    "    img = cv2.cvtColor(img, cv2.COLOR_BGR2RGB)\n",
    "\n",
    "    fig, axs = plt.subplots(1, 2, figsize=(14, 7))\n",
    "\n",
    "    axs[0].imshow(img)\n",
    "    axs[0].scatter(ref_pts[:, 0]*(original_width/100), ref_pts[:, 1]*(original_height/100), c='yellow', label='reference', s=80, edgecolor='black')\n",
    "    axs[0].scatter(foot_pts[:, 0]*(original_width/100), foot_pts[:, 1]*(original_height/100), c='red', label='foot', s=80, edgecolor='black')\n",
    "    axs[0].axis('off')\n",
    "    axs[0].legend()\n",
    "\n",
    "    return axs[1]\n",
    "\n",
    "def plot_projection_on_axes(\n",
    "    ax: plt.Axes,\n",
    "    room_contour: np.ndarray,\n",
    "    reference_pts: np.ndarray,\n",
    "    projected_pts: np.ndarray,\n",
    "    img_name: str\n",
    ") -> None:\n",
    "    \"\"\" Dibuja el plano del cuarto en un subplot existente. \"\"\"\n",
    "    ax.plot(room_contour[:, 0], room_contour[:, 1], 'k-', label='room')\n",
    "    ax.scatter(reference_pts[:, 0], reference_pts[:, 1], c='yellow', label='reference', s=80, edgecolor='black')\n",
    "    ax.scatter(projected_pts[:, 0], projected_pts[:, 1], c='red', label='foot', s=80, edgecolor='black')\n",
    "    ax.set_title(f\"Proyección - {img_name}\")\n",
    "    ax.axis('equal')\n",
    "    ax.grid(True)\n",
    "    ax.legend()\n",
    "\n",
    "path_projected = path_data / \"projected\"\n",
    "for path_img in path_captures.iterdir():\n",
    "    IMG_PATH = path_captures / path_img.name\n",
    "    foot_img_pts = name2label[path_img.name].foot_array\n",
    "    ref_img_pts = name2label[path_img.name].reference_array\n",
    "    original_width = name2label[path_img.name].reference[0].original_width\n",
    "    original_height = name2label[path_img.name].reference[0].original_height\n",
    "\n",
    "    foot_projected = project_points(foot_img_pts, H)\n",
    "\n",
    "    ax_right = show_image_with_points(IMG_PATH, foot_img_pts, ref_img_pts, original_width, original_height)\n",
    "    plot_projection_on_axes(ax_right, room_outline, points_real, foot_projected, path_img.name)\n",
    "\n",
    "    plt.savefig(path_projected / path_img.name)\n",
    "    plt.close(\"all\")\n",
    "    #plt.show()\n"
   ]
  },
  {
   "cell_type": "code",
   "execution_count": null,
   "metadata": {},
   "outputs": [],
   "source": []
  }
 ],
 "metadata": {
  "kernelspec": {
   "display_name": "env",
   "language": "python",
   "name": "python3"
  },
  "language_info": {
   "codemirror_mode": {
    "name": "ipython",
    "version": 3
   },
   "file_extension": ".py",
   "mimetype": "text/x-python",
   "name": "python",
   "nbconvert_exporter": "python",
   "pygments_lexer": "ipython3",
   "version": "3.13.2"
  }
 },
 "nbformat": 4,
 "nbformat_minor": 2
}
